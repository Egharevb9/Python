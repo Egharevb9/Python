{
 "cells": [
  {
   "cell_type": "code",
   "execution_count": null,
   "id": "29fb7369",
   "metadata": {
    "vscode": {
     "languageId": "plaintext"
    }
   },
   "outputs": [],
   "source": [
    "print(\"hello world\")\n"
   ]
  },
  {
   "cell_type": "markdown",
   "id": "4ef883f6",
   "metadata": {},
   "source": [
    "print(\"hello world\")\n"
   ]
  }
 ],
 "metadata": {
  "language_info": {
   "name": "python"
  }
 },
 "nbformat": 4,
 "nbformat_minor": 5
}
